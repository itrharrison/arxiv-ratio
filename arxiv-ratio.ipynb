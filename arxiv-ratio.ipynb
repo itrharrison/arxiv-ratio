{
 "cells": [
  {
   "cell_type": "markdown",
   "metadata": {},
   "source": [
    "This is a short script used to create the plot in this tweet:\n",
    "\n",
    "<blockquote class=\"twitter-tweet\"><p lang=\"en\" dir=\"ltr\">I had a look at astro-ph gender ratio (according to the gender_guesser python library&#39;s classification of names, which is problematic to begin with) over time. Line is 7 day rolling mean, and dashed is mean for whole period. Feedback welcome, I probably missed something obvious! <a href=\"https://t.co/jWCjj6P7fy\">pic.twitter.com/jWCjj6P7fy</a></p>&mdash; Ian Harrison (@itrharrison) <a href=\"https://twitter.com/itrharrison/status/1252645846040088578?ref_src=twsrc%5Etfw\">April 21, 2020</a></blockquote> <script async src=\"https://platform.twitter.com/widgets.js\" charset=\"utf-8\"></script>\n",
    "\n",
    "I was a bit hesitant to share it publicly and I now probably regret it, as me spending 30 minutes mostly remembering how to use the arXiv API is in no way adequate for this kind of analysis, which has been done much better elsewhere. Deleting the tweet has its own problems, so I will at least provide the code and some of the caveats."
   ]
  },
  {
   "cell_type": "code",
   "execution_count": 1,
   "metadata": {},
   "outputs": [],
   "source": [
    "import urllib3\n",
    "import feedparser\n",
    "import gender_guesser.detector as gender\n",
    "\n",
    "import numpy as np\n",
    "from matplotlib import pyplot as plt\n",
    "from matplotlib import rc\n",
    "\n",
    "rc('text', usetex=True)\n",
    "rc('font', family='serif')\n",
    "rc('font', size=11)"
   ]
  },
  {
   "cell_type": "markdown",
   "metadata": {},
   "source": [
    "A function which interrogates the [arXiv API](https://arxiv.org/help/api) for details of uploads. I originally wrote this code in 2012:"
   ]
  },
  {
   "cell_type": "code",
   "execution_count": 2,
   "metadata": {},
   "outputs": [],
   "source": [
    "def get_arXiv_data(cat='astro-ph.CO', start=0, max_results=100, parse=True):\n",
    "  '''Reads the results from an arXiv category, sorted by most recent first,\n",
    "  from start to max_results.\n",
    "  \n",
    "  Returns\n",
    "  -------\n",
    "  d : the feedparser parsed data entries, or raw data, depending on\n",
    "      the parse argument.\n",
    "  '''\n",
    "\n",
    "  http = urllib3.PoolManager()\n",
    "  \n",
    "  if max_results > 30000:\n",
    "    raise Exception('Too many results requested! arXiv API recommends against > 30000')\n",
    "  \n",
    "  url = ('http://export.arxiv.org/api/query?search_query=cat:' + cat\n",
    "         + '&sortBy=lastUpdatedDate&sortOrder=descending&start='\n",
    "         + str(int(start)) + '&max_results=' + str(int(max_results)))\n",
    "        \n",
    "  data = http.request('GET', url).data\n",
    "  if parse:\n",
    "    d = feedparser.parse(data)\n",
    "  else:\n",
    "    d = data\n",
    "  return d"
   ]
  },
  {
   "cell_type": "markdown",
   "metadata": {},
   "source": [
    "Create a \"gender detection\" object, from the [gender-guesser](https://pypi.org/project/gender-guesser/) library. I am uncomfortable about using this as there are many potential pitfalls (such as mapping between people's names used in a professional context and their gender). The original data is described [here](https://autohotkey.com/board/topic/20260-gender-verification-by-forename-cmd-line-tool-db/).\n",
    "\n",
    "It claims\n",
    "> This list should be able to cover the vast majority of first names\n",
    "in all European contries and in some overseas countries (e.g. China,\n",
    "India, Japan, U.S.A.) as well.\n",
    "\n",
    "But I have seen no quantification of this coverage. Given other widespread biases it seems very likely coverage is biased towards names with a European heritage."
   ]
  },
  {
   "cell_type": "code",
   "execution_count": 3,
   "metadata": {},
   "outputs": [],
   "source": [
    "gend = gender.Detector()"
   ]
  },
  {
   "cell_type": "markdown",
   "metadata": {},
   "source": [
    "Fetch the arXiv data:"
   ]
  },
  {
   "cell_type": "code",
   "execution_count": 4,
   "metadata": {},
   "outputs": [],
   "source": [
    "feed = get_arXiv_data(cat='astro-ph.*', start=0, max_results=10000)"
   ]
  },
  {
   "cell_type": "markdown",
   "metadata": {},
   "source": [
    "Extract a few things, including listing dates and the full list of paper authors from the arXiv data."
   ]
  },
  {
   "cell_type": "code",
   "execution_count": 5,
   "metadata": {},
   "outputs": [],
   "source": [
    "arxiv_id = np.empty(len(feed.entries), dtype='S12')\n",
    "pub_date = np.empty(len(feed.entries), dtype='datetime64[D]')\n",
    "author_names = []\n",
    "author_pubdate = []\n",
    "author_gender = []\n",
    "\n",
    "for i_p, paper in enumerate(feed.entries):\n",
    "    arxiv_id[i_p] = paper.id.replace('http://arxiv.org/abs/', '')\n",
    "    year = paper.updated_parsed.tm_year\n",
    "    month = paper.updated_parsed.tm_mon\n",
    "    day = paper.updated_parsed.tm_mday\n",
    "    pub_date[i_p] = '{0}-{1:02d}-{2:02d}'.format(paper.updated_parsed.tm_year,\n",
    "                                                 paper.updated_parsed.tm_mon,\n",
    "                                                 paper.updated_parsed.tm_mday)\n",
    "    \n",
    "    for name in paper.authors:\n",
    "        author_names.append(name['name'])\n",
    "        author_pubdate.append(pub_date[i_p])\n",
    "        author_gender.append(gend.get_gender(name['name'].split(' ')[0]))"
   ]
  },
  {
   "cell_type": "code",
   "execution_count": 15,
   "metadata": {},
   "outputs": [],
   "source": [
    "author_pubdate = np.asarray(author_pubdate)\n",
    "author_gender = np.asarray(author_gender)\n",
    "\n",
    "dates = np.unique(author_pubdate)\n",
    "\n",
    "n_male = np.zeros_like(dates, dtype=float)\n",
    "n_female = np.zeros_like(dates, dtype=float)\n",
    "n_unknown = np.zeros_like(dates, dtype=float)\n",
    "n_andy = np.zeros_like(dates, dtype=float)"
   ]
  },
  {
   "cell_type": "markdown",
   "metadata": {},
   "source": [
    "**For authors with names classed as `male` `mostly_male` `female` or `mostly_female`** find the fraction of `female` or `mostly_female` authors per day."
   ]
  },
  {
   "cell_type": "code",
   "execution_count": 16,
   "metadata": {},
   "outputs": [
    {
     "name": "stderr",
     "output_type": "stream",
     "text": [
      "/Users/harrison/opt/anaconda3/lib/python3.7/site-packages/ipykernel_launcher.py:2: DeprecationWarning: elementwise comparison failed; this will raise an error in the future.\n",
      "  \n",
      "/Users/harrison/opt/anaconda3/lib/python3.7/site-packages/ipykernel_launcher.py:3: DeprecationWarning: elementwise comparison failed; this will raise an error in the future.\n",
      "  This is separate from the ipykernel package so we can avoid doing imports until\n"
     ]
    }
   ],
   "source": [
    "for i_date, date in enumerate(dates):\n",
    "    n_male[i_date] = np.sum(author_gender[author_pubdate==date]=='male') + np.sum(author_gender[author_pubdate==dates]=='mostly_male')\n",
    "    n_female[i_date] = np.sum(author_gender[author_pubdate==date]=='female') + np.sum(author_gender[author_pubdate==dates]=='mostly_female')\n",
    "    n_unknown[i_date] = np.sum(author_gender[author_pubdate==date]=='unknown')\n",
    "    n_andy[i_date] = np.sum(author_gender[author_pubdate==date]=='andy')\n",
    "\n",
    "frac_fm = n_female/(n_male+n_female)"
   ]
  },
  {
   "cell_type": "markdown",
   "metadata": {},
   "source": [
    "Look at raw totals of these. Note the `gender-guesser` classifications `andy` for names that are often used for either binary gender, and `unknown` for names not in the database, which here mostly corresponds to where initial only is used in the arXiv listing."
   ]
  },
  {
   "cell_type": "code",
   "execution_count": 21,
   "metadata": {},
   "outputs": [
    {
     "name": "stdout",
     "output_type": "stream",
     "text": [
      "guesser male: 26302.0, guesser female: 7091.0\n",
      "guesser either: 2429.0, guesser not in database: 66143.0\n"
     ]
    }
   ],
   "source": [
    "print('guesser male: {0}, guesser female: {1}'.format(n_male.sum(), n_female.sum()))\n",
    "print('guesser either: {0}, guesser not in database: {1}'.format(n_andy.sum(), n_unknown.sum()))"
   ]
  },
  {
   "cell_type": "markdown",
   "metadata": {},
   "source": [
    "Take the seven-day rolling average for these quantities."
   ]
  },
  {
   "cell_type": "code",
   "execution_count": 8,
   "metadata": {},
   "outputs": [],
   "source": [
    "n_male_7day = np.convolve(n_male, np.ones((7,))/7, mode='valid')\n",
    "n_female_7day = np.convolve(n_female, np.ones((7,))/7, mode='valid')\n",
    "frac_fm_7day = np.convolve(frac_fm, np.ones((7,))/7, mode='valid')"
   ]
  },
  {
   "cell_type": "markdown",
   "metadata": {},
   "source": [
    "Make a plot of the data."
   ]
  },
  {
   "cell_type": "code",
   "execution_count": 9,
   "metadata": {},
   "outputs": [
    {
     "data": {
      "image/png": "[encoded data removed]",
      "text/plain": [
       "<Figure size 810x270 with 2 Axes>"
      ]
     },
     "metadata": {
      "needs_background": "light"
     },
     "output_type": "display_data"
    }
   ],
   "source": [
    "plt.close('all')\n",
    "plt.figure(1, figsize=(2.5*4.5, 3.75))\n",
    "plt.title('astro-ph')\n",
    "plt.bar(dates[3:-3], n_male_7day, width=0.35, label='\\\\texttt{male} or \\\\texttt{mostly\\_male}')\n",
    "plt.bar(dates[3:-3], n_female_7day, width=0.35, bottom=n_male_7day, label='\\\\texttt{female} or \\\\texttt{mostly\\_female}')\n",
    "plt.legend(fontsize='x-small')\n",
    "plt.axvline(np.datetime64('2020-03-23'),lw=1)\n",
    "plt.text(np.datetime64('2020-03-23'), 150, 'UK lockdown', rotation=90, fontsize=10)\n",
    "plt.axvline(np.datetime64('2020-03-09'), lw=1)\n",
    "plt.text(np.datetime64('2020-03-09'), 150, 'Italy lockdown', rotation=90, fontsize=10)\n",
    "plt.axvline(np.datetime64('2020-03-19'), lw=1)\n",
    "plt.text(np.datetime64('2020-03-19'), 150, 'California lockdown', rotation=90, fontsize=10)\n",
    "plt.xlabel('Date')\n",
    "plt.ylabel('Number of author names')\n",
    "plt.xlim(dates.min(), dates.max())\n",
    "ax = plt.gca()\n",
    "ax = plt.twinx()\n",
    "#ax.plot(dates, frac_fm, '--', alpha=0.4)\n",
    "ax.plot(dates[3:-3], frac_fm_7day, '-')\n",
    "ax.axhline(frac_fm_7day.mean(), linestyle='dashed', alpha=0.4)\n",
    "ax.set_ylim([0,0.5])\n",
    "ax.set_ylabel('Fraction of author names \\\\texttt{female} or \\\\texttt{mostly\\_female}')\n",
    "plt.savefig('astro-ph_author_gender.png', dpi=300, bbox_inches='tight')\n",
    "plt.show()"
   ]
  }
 ],
 "metadata": {
  "kernelspec": {
   "display_name": "Python 3",
   "language": "python",
   "name": "python3"
  },
  "language_info": {
   "codemirror_mode": {
    "name": "ipython",
    "version": 3
   },
   "file_extension": ".py",
   "mimetype": "text/x-python",
   "name": "python",
   "nbconvert_exporter": "python",
   "pygments_lexer": "ipython3",
   "version": "3.7.4"
  }
 },
 "nbformat": 4,
 "nbformat_minor": 4
}
